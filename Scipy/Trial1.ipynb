{
 "cells": [
  {
   "cell_type": "code",
   "execution_count": 1,
   "id": "2a2bd708",
   "metadata": {},
   "outputs": [],
   "source": [
    "import scipy\n",
    "import numpy as np"
   ]
  },
  {
   "cell_type": "markdown",
   "id": "7f5ecff0",
   "metadata": {},
   "source": [
    "### Binomial distribution"
   ]
  },
  {
   "cell_type": "markdown",
   "id": "2b139d92",
   "metadata": {},
   "source": [
    "![](http://www.stat.yale.edu/Courses/1997-98/101/binpdf.gif)"
   ]
  },
  {
   "cell_type": "markdown",
   "id": "dfa372d9",
   "metadata": {},
   "source": [
    "## Binomial Distribution: When to Use?\n",
    "\n",
    "- **Fixed Trials (n):** Experiment repeats a set number of times.  \n",
    "- **Two Outcomes:** Success (1) or Failure (0).  \n",
    "- **Constant Probability (p):** Same for all trials.  \n",
    "- **Independent Trials:** One trial doesn't affect another.  \n",
    "\n",
    "### Examples  \n",
    "- Coin Tossing, Manufacturing Defects, Medical Trials, Customer Surveys.  \n",
    "\n",
    "## SciPy Implementation  \n",
    "\n",
    "- **n = 10** → Number of trials  \n",
    "- **p = 0.5** → Probability of success in each trial  \n",
    "- **k = 3** → Number of successes  \n",
    "- **binom.pmf(k, n, p)** → Computes P(X = k)  \n"
   ]
  },
  {
   "cell_type": "code",
   "execution_count": 2,
   "id": "cecb8a0c",
   "metadata": {},
   "outputs": [],
   "source": [
    "from scipy.stats import binom"
   ]
  },
  {
   "cell_type": "code",
   "execution_count": 3,
   "id": "54c9a0df",
   "metadata": {},
   "outputs": [
    {
     "data": {
      "text/plain": [
       "0.090777998593228"
      ]
     },
     "execution_count": 3,
     "metadata": {},
     "output_type": "execute_result"
    }
   ],
   "source": [
    "binom.pmf(k=19,n=25,p=0.65)"
   ]
  },
  {
   "cell_type": "code",
   "execution_count": 23,
   "id": "16973c83",
   "metadata": {},
   "outputs": [
    {
     "data": {
      "text/plain": [
       "0.090777998593228"
      ]
     },
     "execution_count": 23,
     "metadata": {},
     "output_type": "execute_result"
    }
   ],
   "source": [
    "binom.pmf(19,25,0.65)"
   ]
  },
  {
   "cell_type": "code",
   "execution_count": 24,
   "id": "159a8e3a",
   "metadata": {},
   "outputs": [
    {
     "data": {
      "text/plain": [
       "0.8850275957378549"
      ]
     },
     "execution_count": 24,
     "metadata": {},
     "output_type": "execute_result"
    }
   ],
   "source": [
    "binom.cdf(2,20,0.06)"
   ]
  },
  {
   "cell_type": "code",
   "execution_count": 25,
   "id": "d40f191e",
   "metadata": {},
   "outputs": [
    {
     "data": {
      "text/plain": [
       "0.11714155053639005"
      ]
     },
     "execution_count": 25,
     "metadata": {},
     "output_type": "execute_result"
    }
   ],
   "source": [
    "binom.pmf(10,20,0.4)"
   ]
  },
  {
   "cell_type": "markdown",
   "id": "19c6962a",
   "metadata": {},
   "source": [
    "### Poisson Distribution"
   ]
  },
  {
   "cell_type": "markdown",
   "id": "002f1056",
   "metadata": {},
   "source": [
    "### Poisson Distribution: When to Use?\n",
    "\n",
    "- **Counts Events in Fixed Interval:** Used for counting occurrences over time, area, or space.  \n",
    "- **Independent Events:** One occurrence does not affect another.  \n",
    "- **Constant Rate (λ):** The average number of occurrences per interval is fixed.  \n",
    "- **No Upper Limit:** Theoretically, any number of occurrences can happen.  \n",
    "\n",
    "### Examples  \n",
    "- Number of customer arrivals per hour at a store.  \n",
    "- Number of emails received in an hour.  \n",
    "- Number of defects in a sheet of metal.  \n",
    "\n",
    "### SciPy Implementation  \n",
    "\n",
    "- **λ (lambda) = 4** → Average occurrences per interval  \n",
    "- **k = 2** → Number of actual occurrences  \n",
    "- **poisson.pmf(k, λ)** → Computes P(X = k)  \n"
   ]
  },
  {
   "cell_type": "code",
   "execution_count": 26,
   "id": "6416ccd4",
   "metadata": {},
   "outputs": [],
   "source": [
    "from scipy.stats import poisson"
   ]
  },
  {
   "cell_type": "code",
   "execution_count": 27,
   "id": "a69054c3",
   "metadata": {},
   "outputs": [
    {
     "data": {
      "text/plain": [
       "0.18044704431548356"
      ]
     },
     "execution_count": 27,
     "metadata": {},
     "output_type": "execute_result"
    }
   ],
   "source": [
    "poisson.pmf(3,2)"
   ]
  },
  {
   "cell_type": "code",
   "execution_count": 28,
   "id": "2c64d193",
   "metadata": {},
   "outputs": [
    {
     "data": {
      "text/plain": [
       "0.9831701582510425"
      ]
     },
     "execution_count": 28,
     "metadata": {},
     "output_type": "execute_result"
    }
   ],
   "source": [
    "poisson.cdf(7,3.2)"
   ]
  },
  {
   "cell_type": "code",
   "execution_count": 31,
   "id": "074b10a6",
   "metadata": {},
   "outputs": [
    {
     "name": "stdout",
     "output_type": "stream",
     "text": [
      "0.01682984174895752\n"
     ]
    }
   ],
   "source": [
    "prob_gt_7=1-poisson.cdf(7,3.2)\n",
    "print(prob_gt_7)"
   ]
  },
  {
   "cell_type": "markdown",
   "id": "28e19e00",
   "metadata": {},
   "source": [
    "### Uniform Distribution"
   ]
  },
  {
   "cell_type": "markdown",
   "id": "9e4235cf",
   "metadata": {},
   "source": [
    "### Uniform Distribution: When to Use?\n",
    "\n",
    "- **Equal Probability:** Every value in the range has an equal chance of occurring.  \n",
    "- **Defined by a Range (a, b):** The distribution is uniform between two values.  \n",
    "- **Continuous or Discrete:** Can be used for both types of data.  \n",
    "\n",
    "### Examples  \n",
    "- Rolling a fair die (discrete uniform).  \n",
    "- Randomly selecting a number between 0 and 1 (continuous uniform).  \n",
    "- Generating random timestamps within a day.  \n",
    "\n",
    "### SciPy Implementation  \n",
    "\n",
    "- **a = 2, b = 10** → Range of values  \n",
    "- **uniform.pdf(x, a, b-a)** → Computes P(X = x) for continuous case  \n"
   ]
  },
  {
   "cell_type": "code",
   "execution_count": 33,
   "id": "33b6da52",
   "metadata": {},
   "outputs": [],
   "source": [
    "from scipy.stats import uniform"
   ]
  },
  {
   "cell_type": "code",
   "execution_count": 34,
   "id": "14758c40",
   "metadata": {},
   "outputs": [
    {
     "data": {
      "text/plain": [
       "array([27, 28, 29, 30, 31, 32, 33, 34, 35, 36, 37, 38, 39])"
      ]
     },
     "execution_count": 34,
     "metadata": {},
     "output_type": "execute_result"
    }
   ],
   "source": [
    "u=np.arange(27,40,1)\n",
    "u"
   ]
  },
  {
   "cell_type": "code",
   "execution_count": 36,
   "id": "fae9c5fe",
   "metadata": {},
   "outputs": [
    {
     "data": {
      "text/plain": [
       "33.0"
      ]
     },
     "execution_count": 36,
     "metadata": {},
     "output_type": "execute_result"
    }
   ],
   "source": [
    "uniform.mean(loc=27,scale=12)"
   ]
  },
  {
   "cell_type": "code",
   "execution_count": 38,
   "id": "dd6cdffe",
   "metadata": {},
   "outputs": [
    {
     "data": {
      "text/plain": [
       "array([0.25      , 0.33333333, 0.41666667, 0.5       , 0.58333333,\n",
       "       0.66666667])"
      ]
     },
     "execution_count": 38,
     "metadata": {},
     "output_type": "execute_result"
    }
   ],
   "source": [
    "uniform.cdf(np.arange(30,36,1),loc=27,scale=12)"
   ]
  },
  {
   "cell_type": "code",
   "execution_count": 40,
   "id": "8826562a",
   "metadata": {},
   "outputs": [
    {
     "data": {
      "text/plain": [
       "0.41666667"
      ]
     },
     "execution_count": 40,
     "metadata": {},
     "output_type": "execute_result"
    }
   ],
   "source": [
    "prob=0.66666667-0.25 \n",
    "prob"
   ]
  },
  {
   "cell_type": "code",
   "execution_count": 41,
   "id": "3ef67b19",
   "metadata": {},
   "outputs": [
    {
     "data": {
      "text/plain": [
       "691.0"
      ]
     },
     "execution_count": 41,
     "metadata": {},
     "output_type": "execute_result"
    }
   ],
   "source": [
    "uniform.mean(loc=200,scale=982)"
   ]
  },
  {
   "cell_type": "code",
   "execution_count": 43,
   "id": "1676558f",
   "metadata": {},
   "outputs": [
    {
     "data": {
      "text/plain": [
       "283.4789821721062"
      ]
     },
     "execution_count": 43,
     "metadata": {},
     "output_type": "execute_result"
    }
   ],
   "source": [
    "uniform.std(loc=200,scale=982)"
   ]
  },
  {
   "cell_type": "markdown",
   "id": "6d64d73c",
   "metadata": {},
   "source": [
    "### Normal Distribution"
   ]
  },
  {
   "cell_type": "markdown",
   "id": "123f962b",
   "metadata": {},
   "source": [
    "### Normal Distribution: When to Use?\n",
    "\n",
    "- **Bell-Shaped Curve:** Most values cluster around the mean.  \n",
    "- **Defined by Mean (μ) and Standard Deviation (σ):**  \n",
    "  - μ (mean): Center of the distribution.  \n",
    "  - σ (std deviation): Controls spread.  \n",
    "- **Symmetric:** Equal probability on both sides of the mean.  \n",
    "\n",
    "### Examples  \n",
    "- Heights of people in a population.  \n",
    "- Test scores in a large class.  \n",
    "- Measurement errors in experiments.  \n",
    "\n",
    "### SciPy Implementation  \n",
    "\n",
    "- **μ = 50, σ = 10** → Mean and standard deviation  \n",
    "- **norm.pdf(x, μ, σ)** → Computes P(X = x)  \n"
   ]
  },
  {
   "cell_type": "code",
   "execution_count": 44,
   "id": "02314d36",
   "metadata": {},
   "outputs": [],
   "source": [
    "from scipy.stats import norm"
   ]
  },
  {
   "cell_type": "code",
   "execution_count": 45,
   "id": "55777084",
   "metadata": {},
   "outputs": [],
   "source": [
    "val,m,s=68,65.5,2.5"
   ]
  },
  {
   "cell_type": "code",
   "execution_count": 46,
   "id": "c70b156d",
   "metadata": {},
   "outputs": [
    {
     "data": {
      "text/plain": [
       "0.8413447460685429"
      ]
     },
     "execution_count": 46,
     "metadata": {},
     "output_type": "execute_result"
    }
   ],
   "source": [
    "norm.cdf(val,m,s)"
   ]
  },
  {
   "cell_type": "code",
   "execution_count": 48,
   "id": "55ac32ed",
   "metadata": {},
   "outputs": [
    {
     "data": {
      "text/plain": [
       "0.15865525393145707"
      ]
     },
     "execution_count": 48,
     "metadata": {},
     "output_type": "execute_result"
    }
   ],
   "source": [
    "cdf_gt_val=1-norm.cdf(val,m,s)\n",
    "cdf_gt_val"
   ]
  },
  {
   "cell_type": "code",
   "execution_count": 50,
   "id": "8fd9f7cc",
   "metadata": {},
   "outputs": [
    {
     "data": {
      "text/plain": [
       "0.6826894921370859"
      ]
     },
     "execution_count": 50,
     "metadata": {},
     "output_type": "execute_result"
    }
   ],
   "source": [
    "val_btw_val=(norm.cdf(val,m,s)-norm.cdf(63,m,s))\n",
    "val_btw_val"
   ]
  },
  {
   "cell_type": "code",
   "execution_count": 51,
   "id": "7bb177d5",
   "metadata": {},
   "outputs": [
    {
     "data": {
      "text/plain": [
       "0.019699270409376912"
      ]
     },
     "execution_count": 51,
     "metadata": {},
     "output_type": "execute_result"
    }
   ],
   "source": [
    "1-norm.cdf(700,494,100)\n",
    "# for cdf greater than 700\n",
    "# we first find cdf upto 700 then subtract from total probability 1"
   ]
  },
  {
   "cell_type": "code",
   "execution_count": 52,
   "id": "62f42a47",
   "metadata": {},
   "outputs": [
    {
     "data": {
      "text/plain": [
       "1.6448536269514722"
      ]
     },
     "execution_count": 52,
     "metadata": {},
     "output_type": "execute_result"
    }
   ],
   "source": [
    "norm.ppf(0.95)\n",
    "# area given and we need to find z value"
   ]
  },
  {
   "cell_type": "code",
   "execution_count": 54,
   "id": "8b8b6838",
   "metadata": {},
   "outputs": [
    {
     "data": {
      "text/plain": [
       "-0.45988328292440145"
      ]
     },
     "execution_count": 54,
     "metadata": {},
     "output_type": "execute_result"
    }
   ],
   "source": [
    "norm.ppf(1-.6772)"
   ]
  },
  {
   "cell_type": "markdown",
   "id": "902402f6",
   "metadata": {},
   "source": [
    "### Hypergeometric Distribution"
   ]
  },
  {
   "cell_type": "markdown",
   "id": "549ae6b4",
   "metadata": {},
   "source": [
    "### Hypergeometric Distribution: When to Use?\n",
    "\n",
    "- **Sampling Without Replacement:** Used when selecting items from a finite population.  \n",
    "- **Defined by Population and Sample Sizes:**  \n",
    "  - **N** → Total population size.  \n",
    "  - **K** → Total number of successes in the population.  \n",
    "  - **n** → Sample size drawn.  \n",
    "  - **k** → Number of observed successes in the sample.  \n",
    "- **Dependence Between Trials:** Probability changes after each draw.  \n",
    "\n",
    "### Examples  \n",
    "- Drawing cards from a deck without replacement.  \n",
    "- Selecting defective items from a batch.  \n",
    "- Choosing students for a competition from different groups.  \n",
    "\n",
    "### SciPy Implementation  \n",
    "\n",
    "- **N = 20, K = 7, n = 5** → Population, success count, and sample size.  \n",
    "- **hypergeom.pmf(k, N, K, n)** → Computes P(X = k).  \n"
   ]
  },
  {
   "cell_type": "code",
   "execution_count": 55,
   "id": "ed9d0a47",
   "metadata": {},
   "outputs": [],
   "source": [
    "from scipy.stats import hypergeom"
   ]
  },
  {
   "cell_type": "code",
   "execution_count": 56,
   "id": "efde1bcf",
   "metadata": {},
   "outputs": [
    {
     "data": {
      "text/plain": [
       "0.9754901960784313"
      ]
     },
     "execution_count": 56,
     "metadata": {},
     "output_type": "execute_result"
    }
   ],
   "source": [
    "hypergeom.sf(0,18,3,12)\n",
    "# sf=1- cdf"
   ]
  },
  {
   "cell_type": "code",
   "execution_count": 59,
   "id": "53f3e20a",
   "metadata": {},
   "outputs": [
    {
     "data": {
      "text/plain": [
       "0.04738562091503268"
      ]
     },
     "execution_count": 59,
     "metadata": {},
     "output_type": "execute_result"
    }
   ],
   "source": [
    "hypergeom.cdf(1,18,5,11)\n",
    "\n",
    "# 1 means cdf upto 1\n",
    "# 18 means population size \n",
    "# 5 are chosen\n",
    "# 11 means no of success"
   ]
  },
  {
   "cell_type": "markdown",
   "id": "1da82efd",
   "metadata": {},
   "source": [
    "### Exponential Distribution"
   ]
  },
  {
   "cell_type": "markdown",
   "id": "926ee7e5",
   "metadata": {},
   "source": [
    "### Exponential Distribution: When to Use?\n",
    "\n",
    "- **Models Time Between Events:** Used for waiting times in a Poisson process.  \n",
    "- **Defined by Rate Parameter (λ):**  \n",
    "  - **λ (lambda)** → Average number of events per unit time.  \n",
    "  - Mean = **1/λ**, Variance = **1/λ²**.  \n",
    "- **Memoryless Property:** The probability of an event occurring is independent of past occurrences.  \n",
    "\n",
    "### Examples  \n",
    "- Time between arrivals at a bus stop.  \n",
    "- Time until a radioactive particle decays.  \n",
    "- Duration between customer service calls.  \n",
    "\n",
    "### SciPy Implementation  \n",
    "\n",
    "- **λ = 0.5** → Rate parameter (mean waiting time = 1/λ).  \n",
    "- **expon.pdf(x, scale=1/λ)** → Computes P(X = x).  \n"
   ]
  },
  {
   "cell_type": "code",
   "execution_count": 61,
   "id": "4345b2b8",
   "metadata": {},
   "outputs": [],
   "source": [
    "from scipy.stats import expon"
   ]
  },
  {
   "cell_type": "code",
   "execution_count": 63,
   "id": "5b965e4d",
   "metadata": {},
   "outputs": [
    {
     "data": {
      "text/plain": [
       "0.025043397119053856"
      ]
     },
     "execution_count": 63,
     "metadata": {},
     "output_type": "execute_result"
    }
   ],
   "source": [
    "expon.cdf(0.75,(1/1.38))"
   ]
  }
 ],
 "metadata": {
  "kernelspec": {
   "display_name": "Python 3 (ipykernel)",
   "language": "python",
   "name": "python3"
  },
  "language_info": {
   "codemirror_mode": {
    "name": "ipython",
    "version": 3
   },
   "file_extension": ".py",
   "mimetype": "text/x-python",
   "name": "python",
   "nbconvert_exporter": "python",
   "pygments_lexer": "ipython3",
   "version": "3.11.4"
  }
 },
 "nbformat": 4,
 "nbformat_minor": 5
}
